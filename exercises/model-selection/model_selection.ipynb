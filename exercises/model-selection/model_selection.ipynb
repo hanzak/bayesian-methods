{
  "cells": [
    {
      "cell_type": "markdown",
      "metadata": {
        "id": "SaNE3-xr3Zvw"
      },
      "source": [
        "# Model Selection"
      ]
    },
    {
      "cell_type": "code",
      "execution_count": null,
      "metadata": {
        "id": "uQLFS5w43Zv3"
      },
      "outputs": [],
      "source": [
        "import matplotlib.pyplot as plt\n",
        "import numpy as np\n",
        "import scipy\n",
        "from scipy.stats import beta, betabinom, binom\n",
        "from scipy.special import binom as binom_coef\n",
        "from scipy.special import beta as beta_func\n",
        "%matplotlib inline\n",
        "import pandas as pd\n",
        "\n",
        "from IPython.display import Image\n",
        "from IPython.display import IFrame"
      ]
    },
    {
      "cell_type": "markdown",
      "metadata": {
        "id": "ihrsH8Ik3Zv4"
      },
      "source": [
        "### Problem 1: Binomial distribution\n",
        "\n",
        "Let's say we're modelling $N$ iid trials with the Binomial distribution, i.e. the likelihood of the model is\n",
        "$$p(k|N,q) = \\mathcal{Bin}(k|N,q) = C_N^kq^k(1-q)^{N-k}.$$\n",
        "For the parameter $q$, we consider the mixture of Beta distributions as the prior distribution, i.e.\n",
        "$$p(q|w,a,b) = \\sum_jw_j\\mathcal{Beta}(q|a_j,b_j),\\quad\\mathcal{Beta}(q|a,b) = \\frac{1}{\\mathcal{B}(a,b)}q^{a-1}(1-q)^{b-1},\\quad w_j,a_j,b_j>0,\\quad\\sum_jw_j=1.$$\n",
        "\n",
        "The model selection is the selection of $w,a,b$. We're going to study these three following priors\n",
        "1. \"fair coin\" model: $a=b=10$\n",
        "2. \"one-sided coin\" model: $a=b=0.5$\n",
        "3. \"unfair coin\" model: mixture of $a_1=15, b_1=3$ (with $w_1 = 0.5$) and $a_2=3, b_2=15$ (with $w_2 = 0.5$)"
      ]
    },
    {
      "cell_type": "markdown",
      "metadata": {},
      "source": [
        "#### Exercise 1.1: priors (2 points)\n",
        "Plot the pdfs of the priors. Does it match the meaning of their description above?"
      ]
    },
    {
      "cell_type": "code",
      "execution_count": null,
      "metadata": {
        "id": "OWk1sLe-3Zv5"
      },
      "outputs": [],
      "source": [
        "def pdf_prior(q,w,a,b):\n",
        "    #YOUR CODE HERE"
      ]
    },
    {
      "cell_type": "code",
      "execution_count": null,
      "metadata": {
        "colab": {
          "base_uri": "https://localhost:8080/",
          "height": 524
        },
        "id": "u96ffu-83Zv6",
        "outputId": "91ba12bc-4ccc-4453-9104-86b537be359f"
      },
      "outputs": [],
      "source": [
        "w_models = [np.array([1.0]), np.array([1.0]), np.array([0.5, 0.5])]\n",
        "a_models = [np.array([10]), np.array([0.5]), np.array([15, 3])]\n",
        "b_models = [np.array([10]), np.array([0.5]), np.array([3, 15])]\n",
        "\n",
        "q = np.linspace(0,1,200)\n",
        "for i in range(3):\n",
        "    plt.plot(q,pdf_prior(q,w_models[i],a_models[i],b_models[i]), label=f'prior {i+1}')\n",
        "plt.legend()\n",
        "plt.xlabel('q')\n",
        "plt.ylabel('prior: p(q|w,a,b)')\n",
        "plt.grid()"
      ]
    },
    {
      "cell_type": "markdown",
      "metadata": {
        "id": "wNPQw-XA3Zv8"
      },
      "source": [
        "#### Exercise 1.2: evidence (5 points)\n",
        "\n",
        "Derive the formula for evidence, which distribution it corresponds to? Implement the function evaluating evidence and plot the evidence.\n",
        "$$p(k|w,a,b) = \\int dq\\; p(k|q,N)p(q|w,a,b) = ?$$\n",
        "Make conclusions in the end."
      ]
    },
    {
      "cell_type": "code",
      "execution_count": null,
      "metadata": {
        "id": "Vffy2LGT3Zv8"
      },
      "outputs": [],
      "source": [
        "def p_evidence(k,N,w,a,b):\n",
        "    #YOUR CODE HERE"
      ]
    },
    {
      "cell_type": "code",
      "execution_count": null,
      "metadata": {
        "colab": {
          "base_uri": "https://localhost:8080/",
          "height": 489
        },
        "id": "i1YTCshZ3Zv-",
        "outputId": "946a1657-c35e-4086-f985-840bc6ddb152"
      },
      "outputs": [],
      "source": [
        "N = 100\n",
        "k = np.arange(0,N+1,1)\n",
        "for i in range(3):\n",
        "    plt.plot(k,p_evidence(k,N,w_models[i],a_models[i],b_models[i]), label=f'prior {i+1}')\n",
        "plt.legend()\n",
        "plt.xlabel('k')\n",
        "plt.ylabel('evidence: p(k|w,a,b)')\n",
        "plt.grid()"
      ]
    },
    {
      "cell_type": "code",
      "execution_count": null,
      "metadata": {
        "id": "-2ms-8S83Zv_"
      },
      "outputs": [],
      "source": [
        "N = 100\n",
        "k = np.arange(0,N+1,1)\n",
        "k_observed = 80\n",
        "for i in range(3):\n",
        "    plt.plot(k,p_evidence(k,N,w_models[i],a_models[i],b_models[i]), label=f'prior {i+1}')\n",
        "    print('Evidence for model {}: {}'.format(i+1,p_evidence(k_observed,N,w_models[i],a_models[i],b_models[i])))\n",
        "    plt.scatter(k_observed,p_evidence(k_observed,N,w_models[i],a_models[i],b_models[i]), marker='*')\n",
        "plt.legend()\n",
        "plt.xlabel('k')\n",
        "plt.ylabel('evidence: p(k|w,a,b)')\n",
        "plt.grid()"
      ]
    },
    {
      "cell_type": "markdown",
      "metadata": {},
      "source": [
        "Conclusion: ..."
      ]
    },
    {
      "cell_type": "markdown",
      "metadata": {
        "id": "Ls1uuFZ-3ZwB"
      },
      "source": [
        "#### Exercise 1.3: training (5 points)\n",
        "\n",
        "In Bayesian inference, training of a model corresponds to finding the posterior distribution. For our problem, this is the distribution of $q$ for given, $w,a,b,N$ and observed data $k$, i.e.\n",
        "$$p(q|k,w,a,b) \\propto p(k|q)p(q|w,a,b) \\propto ?$$\n",
        "Remember, that the normalization constant of our posterior is the evidence. Indeed,\n",
        "$$p(q|k,w,a,b) = \\frac{p(k|q)p(q|w,a,b)}{\\int dq\\; p(k|q)p(q|w,a,b)}\\,, \\;\\; p(k|w,a,b) = \\int dq\\, p(k|q)p(q|w,a,b)\\,.$$\n",
        "\n",
        "Derive the density of the posterior distribution, which distribution it corresponds to? Implement the formula for the pdf of the posterior, plot it, and compare to the pdfs of the prior."
      ]
    },
    {
      "cell_type": "code",
      "execution_count": null,
      "metadata": {
        "id": "fmhbkD-t3ZwB"
      },
      "outputs": [],
      "source": [
        "def pdf_posterior(q,k,N,w,a,b):\n",
        "    #YOUR CODE HERE"
      ]
    },
    {
      "cell_type": "code",
      "execution_count": null,
      "metadata": {
        "colab": {
          "base_uri": "https://localhost:8080/",
          "height": 507
        },
        "id": "okG8o0_c3ZwB",
        "outputId": "7748b3c0-f385-4fc2-98d5-181d2fd2a999"
      },
      "outputs": [],
      "source": [
        "q = np.linspace(0,1,200)\n",
        "colors = ['C0','C1','C2']\n",
        "for i in range(3):\n",
        "    plt.plot(q,pdf_prior(q,w_models[i],a_models[i],b_models[i]), '--', c=colors[i], label=f'prior {i+1}')\n",
        "    plt.plot(q,pdf_posterior(q,k_observed,N,w_models[i],a_models[i],b_models[i]), c=colors[i], label=f'posterior {i+1}')\n",
        "plt.legend()\n",
        "plt.xlabel('q')\n",
        "plt.ylabel('pdfs')\n",
        "plt.title('priors vs posteriors')\n",
        "plt.grid()"
      ]
    },
    {
      "cell_type": "markdown",
      "metadata": {
        "id": "A9hJFSRd3ZwC"
      },
      "source": [
        "What happens if the dataset is smaller?"
      ]
    },
    {
      "cell_type": "code",
      "execution_count": null,
      "metadata": {
        "colab": {
          "base_uri": "https://localhost:8080/",
          "height": 507
        },
        "id": "VmXm0ouY3ZwC",
        "outputId": "c083d906-217c-4987-869c-c44db5e23b63"
      },
      "outputs": [],
      "source": [
        "k_small,N_small = 8,10\n",
        "\n",
        "q = np.linspace(0,1,200)\n",
        "colors = ['C0','C1','C2']\n",
        "for i in range(3):\n",
        "    plt.plot(q,pdf_prior(q,w_models[i],a_models[i],b_models[i]), '--', c=colors[i], label=f'prior {i+1}')\n",
        "    plt.plot(q,pdf_posterior(q,k_small,N_small,w_models[i],a_models[i],b_models[i]), c=colors[i], label=f'posterior {i+1}')\n",
        "plt.legend()\n",
        "plt.xlabel('q')\n",
        "plt.ylabel('pdfs')\n",
        "plt.title('priors vs posteriors')\n",
        "plt.grid()"
      ]
    },
    {
      "cell_type": "markdown",
      "metadata": {
        "id": "_e3qeP9S3ZwC"
      },
      "source": [
        "#### Exercise 1.4: prediction (3 points)\n",
        "\n",
        "For a single prior with parameters $w,a,b$, the predictive distribution is defined as\n",
        "$$p(k_{new}|k,w,a,b) = \\int dq\\; p(k_{new}|q,N_{new})p(q|k,N,w,a,b) = ?$$\n",
        "\n",
        "However, we can also define the predictive distribution as an ensemble over different priors weighted proportionally to their evidence, i.e.\n",
        "$$p(k_{new}|k) = \\sum_m p(k_{new},m|k) = \\sum_m p(k_{new}|k,m)p(m|k) = \\sum_m \\bigg[\\int dq\\; p(k_{new}|q,N_{new})p(q|k,N,w,a,b)\\bigg] p(m|k)\\,,$$\n",
        "where $p(m|k) \\propto p(k|m=(w,a,b))p(m)$ and $p(m)$ is the uniform prior over models.\n",
        "\n",
        "Derive the formula for the predictive distribution $p(k_{new}|k,w,a,b)$ and implement it. Implement the formula for the predictive distribution $p(k_{new}|k)$ using the implementation of the evidence evaluation and the formula of individual predictive distributions $p(k_{new}|k,w,a,b)$."
      ]
    },
    {
      "cell_type": "code",
      "execution_count": null,
      "metadata": {
        "id": "GZ0doP2l3ZwD"
      },
      "outputs": [],
      "source": [
        "def predictive_distribution_single(k_new,N_new,k,N,w,a,b):\n",
        "    #YOUR CODE HERE\n",
        "\n",
        "def predictive_distribution_all(k_new,N_new,k,N,w,a,b):\n",
        "    #YOUR CODE HERE"
      ]
    },
    {
      "cell_type": "code",
      "execution_count": null,
      "metadata": {
        "colab": {
          "base_uri": "https://localhost:8080/",
          "height": 524
        },
        "id": "v-d67Frw3ZwE",
        "outputId": "29e8a706-1f6e-4ae7-9d91-7d6d4c431b9a"
      },
      "outputs": [],
      "source": [
        "N_new = 100\n",
        "k_new = np.arange(0,N_new+1,1)\n",
        "for i in range(3):\n",
        "    print('Evidence for model {}: {}'.format(i+1,p_evidence(k_small,N_small,w_models[i],a_models[i],b_models[i])))\n",
        "    plt.plot(k_new,predictive_distribution_single(k_new,N_new,k_small,N_small,w_models[i],a_models[i],b_models[i]),\n",
        "             '--',c=colors[i],label=f'model {i+1}')\n",
        "plt.plot(k_new,predictive_distribution_all(k_new,N_new,k_small,N_small,w_models,a_models,b_models),\n",
        "             c='C3',label = 'joint')\n",
        "plt.legend()\n",
        "plt.xlabel(r'$k_{new}$')\n",
        "plt.ylabel(r'$p(k_{new}|k)$')\n",
        "plt.title('Predictive distributions')\n",
        "plt.grid()"
      ]
    },
    {
      "cell_type": "markdown",
      "metadata": {
        "id": "PAPz4d3x3ZwE"
      },
      "source": [
        "### Problem 2. Game of Thrones\n",
        "\n",
        "Let's apply our BetaMix-Binomial model for modelling the survival rate of characters in Game of Thrones using the dataset from https://www.kaggle.com/mylesoneill/game-of-thrones."
      ]
    },
    {
      "cell_type": "code",
      "execution_count": null,
      "metadata": {
        "colab": {
          "base_uri": "https://localhost:8080/",
          "height": 304
        },
        "id": "6biZKqfz3ZwE",
        "outputId": "e35a1486-c4a8-45ef-bc43-9e92f7b0a713"
      },
      "outputs": [],
      "source": [
        "data = pd.read_csv(\"character-predictions.csv\")\n",
        "data.head()"
      ]
    },
    {
      "cell_type": "code",
      "execution_count": null,
      "metadata": {
        "id": "1N321rQG3ZwF"
      },
      "outputs": [],
      "source": [
        "data['People'] = 1\n",
        "houses = data.groupby('house').sum()\n",
        "houses_short = houses[houses['People']>=10].copy()\n",
        "houses_short.head()"
      ]
    },
    {
      "cell_type": "code",
      "execution_count": null,
      "metadata": {
        "id": "5_6Z5MzL3ZwF"
      },
      "outputs": [],
      "source": [
        "p = houses_short['isAlive'].plot.barh(figsize = (8, 6),color='C0',label = \"Alive\")\n",
        "(-houses_short['People']+houses_short['isAlive']).plot.barh(color='C1',label = \"Dead\")\n",
        "p.legend()\n",
        "p.axvline(0, color = 'k')\n",
        "_ = p.set(xlabel = \"Number of people\")"
      ]
    },
    {
      "cell_type": "code",
      "execution_count": null,
      "metadata": {
        "id": "sX8HRI303ZwF"
      },
      "outputs": [],
      "source": [
        "p = (houses_short['isAlive']/houses_short['People']).plot.barh(figsize = (8, 6),color='C0')\n",
        "_ = p.set(xlabel = \"Survival rate\")"
      ]
    },
    {
      "cell_type": "markdown",
      "metadata": {
        "id": "Fb0JZ1-63ZwG"
      },
      "source": [
        "George Martin's modelling of different houses:\n",
        "1. \"fair coin\" model: $a=b=10$. Martin is neutral, i.e., in every house, approximately half of characters survives.\n",
        "2. \"one-sided coin\" model: $a=b=0.5$. Every house Martin either loves (almost everyone survives) or hates (almost none survives)\n",
        "3. \"unfair coin\" model: mixture of $a_1=15, b_1=3$ and $a_2=3, b_2=15$. Every house Martin either likes (majority survives) or dislikes (minority survives)"
      ]
    },
    {
      "cell_type": "code",
      "execution_count": null,
      "metadata": {
        "id": "DQgAGVd83ZwG"
      },
      "outputs": [],
      "source": [
        "w_models = [np.array([1.0]), np.array([1.0]), np.array([0.5, 0.5])]\n",
        "a_models = [np.array([10]), np.array([0.5]), np.array([12, 5])]\n",
        "b_models = [np.array([10]), np.array([0.5]), np.array([5, 12])]\n",
        "\n",
        "q = np.linspace(0,1,200)\n",
        "for i in range(3):\n",
        "    plt.plot(q,pdf_prior(q,w_models[i],a_models[i],b_models[i]), label=f'prior {i+1}')\n",
        "plt.legend()\n",
        "plt.xlabel('q')\n",
        "plt.ylabel('prior: p(q|w,a,b)')\n",
        "plt.grid()"
      ]
    },
    {
      "cell_type": "markdown",
      "metadata": {},
      "source": [
        "#### Exercise 2.1: modelling houses (2 points)\n",
        "\n",
        "For every single house, let's evaluate the evidence under different priors. For the number of success trials, we take the number of characters that survived. For the total number we take the number of characters in the house."
      ]
    },
    {
      "cell_type": "code",
      "execution_count": null,
      "metadata": {
        "id": "3zavk5uO3ZwI"
      },
      "outputs": [],
      "source": [
        "houses_short['ev_1'],houses_short['ev_2'],houses_short['ev_3'] = 0.,0.,0.\n",
        "\n",
        "for i in range(3):\n",
        "    #YOUR CODE HERE        "
      ]
    },
    {
      "cell_type": "code",
      "execution_count": null,
      "metadata": {
        "id": "SKMjnw_-3ZwI"
      },
      "outputs": [],
      "source": [
        "p = (houses_short[['ev_1','ev_2','ev_3']]).plot.barh(figsize = (8, 8))\n",
        "p.set(xlabel = \"Evidence\")"
      ]
    },
    {
      "cell_type": "markdown",
      "metadata": {
        "id": "6FR0TibX3ZwH"
      },
      "source": [
        "We see that for different houses we should use different priors..."
      ]
    },
    {
      "cell_type": "markdown",
      "metadata": {
        "id": "Ra0T3o7a3ZwH"
      },
      "source": [
        "### What's in Martin's head?\n",
        "Consider three different models of Martin's head.\n",
        "1. One prior and one $q$ for all the houses. \n",
        "$$k_i \\sim p(k_i|q)\\,,\\;\\; q \\sim p(q|w,a,b)$$\n",
        "2. Individual $q$ and individual prior for every house.\n",
        "$$k_i \\sim p(k_i|q_i)\\,,\\;\\; q_i \\sim p(q_i|m_i=(w_i,a_i,b_i))\\,,\\;\\; m_i \\sim \\text{uniform}(1,2,3)$$\n",
        "3. Hierarchical model: individual $q$ for every house, but one prior to sample $q$ from.\n",
        "$$k_i \\sim p(k_i|q_i)\\,,\\;\\; q_i \\sim p(q_i|m=(w,a,b))$$\n",
        "\n",
        "<p align=\"center\">\n",
        "<img src=\"hier.png\" alt=\"models\" height=\"200\"/>\n",
        "</p>\n",
        "\n",
        "#### Exercise 2.2. model selection (5 points)\n",
        "For models 1 and 3 of Martin's head, derive the formula for the evidence of different priors, implement the formula, and choose the prior with the maximum evidence."
      ]
    },
    {
      "cell_type": "code",
      "execution_count": null,
      "metadata": {
        "id": "5VcLYGcO3ZwI"
      },
      "outputs": [],
      "source": [
        "ev_together = np.zeros((3,))\n",
        "for i in range(3):\n",
        "    #YOUR CODE HERE\n",
        "    \n",
        "print(ev_together)"
      ]
    },
    {
      "cell_type": "code",
      "execution_count": null,
      "metadata": {
        "id": "ydhpSrOy3ZwJ"
      },
      "outputs": [],
      "source": [
        "ev_hier = np.ones((3,))\n",
        "for i in range(3):\n",
        "    #YOUR CODE HERE\n",
        "        \n",
        "print(ev_hier)"
      ]
    },
    {
      "cell_type": "markdown",
      "metadata": {
        "id": "hr2EWhko3ZwJ"
      },
      "source": [
        "#### Exercise 2.3 predictions (2 points)\n",
        "\n",
        "Under three different models of Martin's head from the previous exercise. For the given house, find the best prior describing the house, find the posterior plot them. Make conclusions in the end."
      ]
    },
    {
      "cell_type": "code",
      "execution_count": null,
      "metadata": {
        "id": "k0q2P1kQ3ZwJ"
      },
      "outputs": [],
      "source": [
        "def plot_predictions(house,houses_short):\n",
        "    print(\"Independent models choice: \",np.array((houses_short.at[house,'ev_1'],houses_short.at[house,'ev_2'],houses_short.at[house,'ev_3'])).argmax()+1)\n",
        "    print(\"One model choice: \",ev_together.argmax()+1)\n",
        "    print(\"Hierarchical model choice: \",ev_hier.argmax()+1)\n",
        "    print(\"ML estimate for q: \",houses_short.at[house,'isAlive']/houses_short.at[house,'People'])\n",
        "    print(\"Number of people: \",houses_short.at[house,'People'])\n",
        "\n",
        "    plt.plot([houses_short.at[house,'isAlive']/houses_short.at[house,'People']],[0],'*',c = 'r',label = 'ML')\n",
        "\n",
        "    q = np.linspace(0,1,200)\n",
        "    #separate\n",
        "    #YOUR CODE HERE\n",
        "    plt.plot(#YOUR CODE HERE,\n",
        "             label = 'independent models')\n",
        "    #together\n",
        "    #YOUR CODE HERE\n",
        "    plt.plot(#YOUR CODE HERE,\n",
        "             label = 'one model')\n",
        "\n",
        "    #hierarchical\n",
        "    #YOUR CODE HERE\n",
        "    plt.plot(#YOUR CODE HERE,\n",
        "             label = 'hierarchical model')\n",
        "\n",
        "    plt.legend()\n",
        "    plt.xlabel('q')\n",
        "    plt.title('Posterior for 3 different approaches, '+house)\n",
        "    plt.grid()"
      ]
    },
    {
      "cell_type": "code",
      "execution_count": null,
      "metadata": {
        "id": "abhVdR9C3ZwJ"
      },
      "outputs": [],
      "source": [
        "houses_short.index"
      ]
    },
    {
      "cell_type": "code",
      "execution_count": null,
      "metadata": {
        "id": "-RKDDZBb3ZwK"
      },
      "outputs": [],
      "source": [
        "house = 'Brave Companions'\n",
        "plot_predictions(house,houses_short)"
      ]
    },
    {
      "cell_type": "code",
      "execution_count": null,
      "metadata": {
        "id": "XtADeghe3ZwK"
      },
      "outputs": [],
      "source": [
        "house = 'Brotherhood without banners'\n",
        "plot_predictions(house,houses_short)"
      ]
    },
    {
      "cell_type": "code",
      "execution_count": null,
      "metadata": {
        "id": "Wee_FWCm3ZwK"
      },
      "outputs": [],
      "source": [
        "house = \"Night's Watch\"\n",
        "plot_predictions(house,houses_short)"
      ]
    },
    {
      "cell_type": "markdown",
      "metadata": {
        "id": "gTkeT8DX3ZwK"
      },
      "source": [
        "Conclusion:\n",
        "- Out of three models of Martin's head which models are reasonable, which are not and why?\n",
        "- How does the number of people in the house affects the posterior?\n",
        "- Where else you could use this model?"
      ]
    }
  ],
  "metadata": {
    "colab": {
      "provenance": []
    },
    "kernelspec": {
      "display_name": "Python 3.10.12 64-bit",
      "language": "python",
      "name": "python3"
    },
    "language_info": {
      "codemirror_mode": {
        "name": "ipython",
        "version": 3
      },
      "file_extension": ".py",
      "mimetype": "text/x-python",
      "name": "python",
      "nbconvert_exporter": "python",
      "pygments_lexer": "ipython3",
      "version": "3.10.12"
    },
    "vscode": {
      "interpreter": {
        "hash": "31f2aee4e71d21fbe5cf8b01ff0e069b9275f58929596ceb00d14d90e3e16cd6"
      }
    }
  },
  "nbformat": 4,
  "nbformat_minor": 0
}
